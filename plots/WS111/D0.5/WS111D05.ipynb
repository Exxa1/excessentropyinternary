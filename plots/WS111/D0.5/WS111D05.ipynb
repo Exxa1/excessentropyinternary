{
 "cells": [
  {
   "cell_type": "code",
   "execution_count": 1,
   "metadata": {},
   "outputs": [],
   "source": [
    "import pandas as pd\n",
    "import numpy as np\n",
    "import matplotlib.pyplot as plt\n",
    "import os\n",
    "\n",
    "def fit_line(x_fit, y_fit):\n",
    "    x_array = np.array(x_fit)\n",
    "    y_array = np.array(y_fit)\n",
    "    a, b = np.polyfit(x_array, y_array, 1)\n",
    "    return a, b, x_array"
   ]
  },
  {
   "cell_type": "code",
   "execution_count": 2,
   "metadata": {},
   "outputs": [
    {
     "data": {
      "text/plain": [
       "['T1.5',\n",
       " 'T1.7',\n",
       " 'T1.9',\n",
       " 'T2.1',\n",
       " 'T2.5',\n",
       " 'T2.9',\n",
       " 'T3.5',\n",
       " 'T4.0',\n",
       " 'T5.0',\n",
       " 'T6.0']"
      ]
     },
     "execution_count": 2,
     "metadata": {},
     "output_type": "execute_result"
    }
   ],
   "source": [
    "model = \"WS111-rho0.5\"\n",
    "simfiles_loc = \"./simfiles/\"\n",
    "files = os.listdir(simfiles_loc)\n",
    "runs = [\"run-2\"]\n",
    "files"
   ]
  },
  {
   "cell_type": "code",
   "execution_count": 4,
   "metadata": {},
   "outputs": [
    {
     "data": {
      "text/plain": [
       "<Figure size 640x480 with 0 Axes>"
      ]
     },
     "metadata": {},
     "output_type": "display_data"
    }
   ],
   "source": [
    "type = \"rdf\"\n",
    "for file in files:\n",
    "    for run in runs:\n",
    "        df = pd.DataFrame(np.loadtxt(simfiles_loc + file + \"/\" + run + \"/\" + \"rdf.dat\"))\n",
    "        plt.plot(df[0], df[1], color = \"green\")\n",
    "        plt.savefig(\"./plots/rdf/\" + file + \"_\" + run + \"rdf.png\")\n",
    "        plt.clf()"
   ]
  },
  {
   "cell_type": "code",
   "execution_count": 6,
   "metadata": {},
   "outputs": [
    {
     "data": {
      "text/plain": [
       "<Figure size 640x480 with 0 Axes>"
      ]
     },
     "metadata": {},
     "output_type": "display_data"
    }
   ],
   "source": [
    "type = \"fs\" # all temps one plot\n",
    "for file in files:\n",
    "    for run in runs:\n",
    "        df = pd.DataFrame(np.loadtxt(simfiles_loc + file + \"/\" + run + \"/Fs.dat\"))\n",
    "        plt.xscale(\"log\")\n",
    "    plt.plot(df[0], df[1], label = file)\n",
    "\n",
    "plt.legend()\n",
    "plt.title(model)\n",
    "plt.xlabel(\"log Time\")\n",
    "plt.ylabel(\"$F_{(q_{max},t)}$\")\n",
    "plt.savefig(\"./plots/\" + type + \"/\" + \"D1.2_\" + type + \".png\")\n",
    "plt.clf()"
   ]
  },
  {
   "cell_type": "code",
   "execution_count": 9,
   "metadata": {},
   "outputs": [
    {
     "data": {
      "text/plain": [
       "<Figure size 640x480 with 0 Axes>"
      ]
     },
     "metadata": {},
     "output_type": "display_data"
    }
   ],
   "source": [
    "type = \"fs\"\n",
    "for file in files:\n",
    "    for run in runs:\n",
    "        df = pd.DataFrame(np.loadtxt(simfiles_loc + file + \"/\" + run + \"/\" + file + \"_\" + run + \"_\" + type + \".dat\"))\n",
    "        plt.xscale(\"log\")\n",
    "        plt.plot(df[0], df[1], label = run)\n",
    "\n",
    "    plt.legend()\n",
    "    plt.savefig(\"./plots/\" + type + \"/\" + file + \"_\" + type + \".png\")\n",
    "    plt.clf()"
   ]
  },
  {
   "cell_type": "code",
   "execution_count": 7,
   "metadata": {},
   "outputs": [
    {
     "name": "stderr",
     "output_type": "stream",
     "text": [
      "C:\\Users\\mearo\\AppData\\Local\\Temp\\ipykernel_4020\\3696105862.py:10: FutureWarning: The frame.append method is deprecated and will be removed from pandas in a future version. Use pandas.concat instead.\n",
      "  results = results.append({\"temp\" : temp, \"diff_coef\": a_fit}, ignore_index=True)\n",
      "C:\\Users\\mearo\\AppData\\Local\\Temp\\ipykernel_4020\\3696105862.py:10: FutureWarning: The frame.append method is deprecated and will be removed from pandas in a future version. Use pandas.concat instead.\n",
      "  results = results.append({\"temp\" : temp, \"diff_coef\": a_fit}, ignore_index=True)\n",
      "C:\\Users\\mearo\\AppData\\Local\\Temp\\ipykernel_4020\\3696105862.py:10: FutureWarning: The frame.append method is deprecated and will be removed from pandas in a future version. Use pandas.concat instead.\n",
      "  results = results.append({\"temp\" : temp, \"diff_coef\": a_fit}, ignore_index=True)\n",
      "C:\\Users\\mearo\\AppData\\Local\\Temp\\ipykernel_4020\\3696105862.py:10: FutureWarning: The frame.append method is deprecated and will be removed from pandas in a future version. Use pandas.concat instead.\n",
      "  results = results.append({\"temp\" : temp, \"diff_coef\": a_fit}, ignore_index=True)\n",
      "C:\\Users\\mearo\\AppData\\Local\\Temp\\ipykernel_4020\\3696105862.py:10: FutureWarning: The frame.append method is deprecated and will be removed from pandas in a future version. Use pandas.concat instead.\n",
      "  results = results.append({\"temp\" : temp, \"diff_coef\": a_fit}, ignore_index=True)\n",
      "C:\\Users\\mearo\\AppData\\Local\\Temp\\ipykernel_4020\\3696105862.py:10: FutureWarning: The frame.append method is deprecated and will be removed from pandas in a future version. Use pandas.concat instead.\n",
      "  results = results.append({\"temp\" : temp, \"diff_coef\": a_fit}, ignore_index=True)\n",
      "C:\\Users\\mearo\\AppData\\Local\\Temp\\ipykernel_4020\\3696105862.py:10: FutureWarning: The frame.append method is deprecated and will be removed from pandas in a future version. Use pandas.concat instead.\n",
      "  results = results.append({\"temp\" : temp, \"diff_coef\": a_fit}, ignore_index=True)\n",
      "C:\\Users\\mearo\\AppData\\Local\\Temp\\ipykernel_4020\\3696105862.py:10: FutureWarning: The frame.append method is deprecated and will be removed from pandas in a future version. Use pandas.concat instead.\n",
      "  results = results.append({\"temp\" : temp, \"diff_coef\": a_fit}, ignore_index=True)\n",
      "C:\\Users\\mearo\\AppData\\Local\\Temp\\ipykernel_4020\\3696105862.py:10: FutureWarning: The frame.append method is deprecated and will be removed from pandas in a future version. Use pandas.concat instead.\n",
      "  results = results.append({\"temp\" : temp, \"diff_coef\": a_fit}, ignore_index=True)\n",
      "C:\\Users\\mearo\\AppData\\Local\\Temp\\ipykernel_4020\\3696105862.py:10: FutureWarning: The frame.append method is deprecated and will be removed from pandas in a future version. Use pandas.concat instead.\n",
      "  results = results.append({\"temp\" : temp, \"diff_coef\": a_fit}, ignore_index=True)\n"
     ]
    },
    {
     "data": {
      "text/plain": [
       "<Figure size 640x480 with 0 Axes>"
      ]
     },
     "metadata": {},
     "output_type": "display_data"
    }
   ],
   "source": [
    "type = \"msd\"\n",
    "results = pd.DataFrame(columns=[\"temp\", \"diff_coef\"])\n",
    "for file in files:\n",
    "    for run in runs:\n",
    "        if run == \"run-2\":\n",
    "            df = pd.DataFrame(np.loadtxt(simfiles_loc + file + \"/\" + run + \"/msd.dat\"))\n",
    "            plt.plot(df[0], df[1])\n",
    "            a_fit, b_fit, x_fit = fit_line(df[0][22:], df[1][22:]) # fit the line\n",
    "            temp = float(file[1:])\n",
    "            results = results.append({\"temp\" : temp, \"diff_coef\": a_fit}, ignore_index=True)\n",
    "            plt.plot(x_fit, a_fit*x_fit+b_fit, color = 'tab:red', linewidth=1) # plot the fitted line\n",
    "            plt.yscale(\"log\")\n",
    "            plt.xscale(\"log\")\n",
    "            plt.savefig(\"./plots/\" + type + \"/\" + file + \"_\" + type + \"_\" + run + \".png\")\n",
    "            plt.clf()"
   ]
  },
  {
   "cell_type": "code",
   "execution_count": 8,
   "metadata": {},
   "outputs": [
    {
     "name": "stderr",
     "output_type": "stream",
     "text": [
      "C:\\Users\\mearo\\AppData\\Local\\Temp\\ipykernel_4020\\2885771838.py:10: FutureWarning: The frame.append method is deprecated and will be removed from pandas in a future version. Use pandas.concat instead.\n",
      "  results = results.append({\"temp\" : temp, \"diff_coef\": a_fit}, ignore_index=True)\n",
      "C:\\Users\\mearo\\AppData\\Local\\Temp\\ipykernel_4020\\2885771838.py:10: FutureWarning: The frame.append method is deprecated and will be removed from pandas in a future version. Use pandas.concat instead.\n",
      "  results = results.append({\"temp\" : temp, \"diff_coef\": a_fit}, ignore_index=True)\n",
      "C:\\Users\\mearo\\AppData\\Local\\Temp\\ipykernel_4020\\2885771838.py:10: FutureWarning: The frame.append method is deprecated and will be removed from pandas in a future version. Use pandas.concat instead.\n",
      "  results = results.append({\"temp\" : temp, \"diff_coef\": a_fit}, ignore_index=True)\n",
      "C:\\Users\\mearo\\AppData\\Local\\Temp\\ipykernel_4020\\2885771838.py:10: FutureWarning: The frame.append method is deprecated and will be removed from pandas in a future version. Use pandas.concat instead.\n",
      "  results = results.append({\"temp\" : temp, \"diff_coef\": a_fit}, ignore_index=True)\n",
      "C:\\Users\\mearo\\AppData\\Local\\Temp\\ipykernel_4020\\2885771838.py:10: FutureWarning: The frame.append method is deprecated and will be removed from pandas in a future version. Use pandas.concat instead.\n",
      "  results = results.append({\"temp\" : temp, \"diff_coef\": a_fit}, ignore_index=True)\n",
      "C:\\Users\\mearo\\AppData\\Local\\Temp\\ipykernel_4020\\2885771838.py:10: FutureWarning: The frame.append method is deprecated and will be removed from pandas in a future version. Use pandas.concat instead.\n",
      "  results = results.append({\"temp\" : temp, \"diff_coef\": a_fit}, ignore_index=True)\n",
      "C:\\Users\\mearo\\AppData\\Local\\Temp\\ipykernel_4020\\2885771838.py:10: FutureWarning: The frame.append method is deprecated and will be removed from pandas in a future version. Use pandas.concat instead.\n",
      "  results = results.append({\"temp\" : temp, \"diff_coef\": a_fit}, ignore_index=True)\n",
      "C:\\Users\\mearo\\AppData\\Local\\Temp\\ipykernel_4020\\2885771838.py:10: FutureWarning: The frame.append method is deprecated and will be removed from pandas in a future version. Use pandas.concat instead.\n",
      "  results = results.append({\"temp\" : temp, \"diff_coef\": a_fit}, ignore_index=True)\n",
      "C:\\Users\\mearo\\AppData\\Local\\Temp\\ipykernel_4020\\2885771838.py:10: FutureWarning: The frame.append method is deprecated and will be removed from pandas in a future version. Use pandas.concat instead.\n",
      "  results = results.append({\"temp\" : temp, \"diff_coef\": a_fit}, ignore_index=True)\n",
      "C:\\Users\\mearo\\AppData\\Local\\Temp\\ipykernel_4020\\2885771838.py:10: FutureWarning: The frame.append method is deprecated and will be removed from pandas in a future version. Use pandas.concat instead.\n",
      "  results = results.append({\"temp\" : temp, \"diff_coef\": a_fit}, ignore_index=True)\n"
     ]
    },
    {
     "data": {
      "text/plain": [
       "<Figure size 640x480 with 0 Axes>"
      ]
     },
     "metadata": {},
     "output_type": "display_data"
    }
   ],
   "source": [
    "type = \"msd\" # all temp one plot\n",
    "results = pd.DataFrame(columns=[\"temp\", \"diff_coef\"])\n",
    "for file in files:\n",
    "    for run in runs:\n",
    "        if run == \"run-2\":\n",
    "            df = pd.DataFrame(np.loadtxt(simfiles_loc + file + \"/\" + run + \"/msd.dat\"))\n",
    "            plt.plot(df[0], df[1])\n",
    "            a_fit, b_fit, x_fit = fit_line(df[0][22:], df[1][22:]) # fit the line\n",
    "            temp = float(file[1:])\n",
    "            results = results.append({\"temp\" : temp, \"diff_coef\": a_fit}, ignore_index=True)\n",
    "            plt.plot(x_fit, a_fit*x_fit+b_fit, color = 'tab:red', linewidth=1) # plot the fitted line\n",
    "plt.yscale(\"log\")\n",
    "plt.xscale(\"log\")\n",
    "plt.title(model)\n",
    "plt.xlabel(\"Time\")\n",
    "plt.ylabel(\"$r^2$\")\n",
    "plt.savefig(\"./plots/\" + type + \"/alltemp_\" + type + \".png\")\n",
    "plt.clf()"
   ]
  },
  {
   "cell_type": "code",
   "execution_count": 9,
   "metadata": {},
   "outputs": [],
   "source": [
    "results['1/temp'] = 1/results['temp']"
   ]
  },
  {
   "cell_type": "code",
   "execution_count": 10,
   "metadata": {},
   "outputs": [
    {
     "data": {
      "text/plain": [
       "<AxesSubplot: xlabel='1/temp'>"
      ]
     },
     "execution_count": 10,
     "metadata": {},
     "output_type": "execute_result"
    },
    {
     "data": {
      "image/png": "[encoded data removed]",
      "text/plain": [
       "<Figure size 640x480 with 1 Axes>"
      ]
     },
     "metadata": {},
     "output_type": "display_data"
    }
   ],
   "source": [
    "\n",
    "results.plot('1/temp', 'diff_coef', logx=True, logy = True, marker = 'x')S"
   ]
  },
  {
   "cell_type": "code",
   "execution_count": 11,
   "metadata": {},
   "outputs": [],
   "source": [
    "Kb = 1.0\n",
    "rho = 1.2\n",
    "reduced_diff = []\n",
    "\n",
    "# diffcoef*rho^1/3(1/kb*t)^1/2\n",
    "\n",
    "results[\"red_diff\"] = results['diff_coef']*(rho**(1/3))*(((1/(Kb*results['temp']))**(1/2)))"
   ]
  },
  {
   "cell_type": "code",
   "execution_count": 12,
   "metadata": {},
   "outputs": [
    {
     "ename": "FileNotFoundError",
     "evalue": "free_energy_rho_1.200000.dat not found.",
     "output_type": "error",
     "traceback": [
      "\u001b[1;31m---------------------------------------------------------------------------\u001b[0m",
      "\u001b[1;31mFileNotFoundError\u001b[0m                         Traceback (most recent call last)",
      "Cell \u001b[1;32mIn [12], line 4\u001b[0m\n\u001b[0;32m      1\u001b[0m \u001b[39m#SINCE NO T0.5 Sex drop that temperature\u001b[39;00m\n\u001b[0;32m      2\u001b[0m results_no05 \u001b[39m=\u001b[39m results\u001b[39m.\u001b[39mdrop([\u001b[39m0\u001b[39m])\n\u001b[1;32m----> 4\u001b[0m exentrfile \u001b[39m=\u001b[39m pd\u001b[39m.\u001b[39mDataFrame(np\u001b[39m.\u001b[39;49mloadtxt(\u001b[39m\"\u001b[39;49m\u001b[39mfree_energy_rho_1.200000.dat\u001b[39;49m\u001b[39m\"\u001b[39;49m))\n\u001b[0;32m      6\u001b[0m exentr \u001b[39m=\u001b[39m []\n\u001b[0;32m      7\u001b[0m \u001b[39mfor\u001b[39;00m temp \u001b[39min\u001b[39;00m results_no05[\u001b[39m'\u001b[39m\u001b[39mtemp\u001b[39m\u001b[39m'\u001b[39m]:\n",
      "File \u001b[1;32mc:\\Users\\mearo\\Documents\\MD_sim_project\\python_env\\mdsim_venv\\Lib\\site-packages\\numpy\\lib\\npyio.py:1318\u001b[0m, in \u001b[0;36mloadtxt\u001b[1;34m(fname, dtype, comments, delimiter, converters, skiprows, usecols, unpack, ndmin, encoding, max_rows, quotechar, like)\u001b[0m\n\u001b[0;32m   1315\u001b[0m \u001b[39mif\u001b[39;00m \u001b[39misinstance\u001b[39m(delimiter, \u001b[39mbytes\u001b[39m):\n\u001b[0;32m   1316\u001b[0m     delimiter \u001b[39m=\u001b[39m delimiter\u001b[39m.\u001b[39mdecode(\u001b[39m'\u001b[39m\u001b[39mlatin1\u001b[39m\u001b[39m'\u001b[39m)\n\u001b[1;32m-> 1318\u001b[0m arr \u001b[39m=\u001b[39m _read(fname, dtype\u001b[39m=\u001b[39;49mdtype, comment\u001b[39m=\u001b[39;49mcomment, delimiter\u001b[39m=\u001b[39;49mdelimiter,\n\u001b[0;32m   1319\u001b[0m             converters\u001b[39m=\u001b[39;49mconverters, skiplines\u001b[39m=\u001b[39;49mskiprows, usecols\u001b[39m=\u001b[39;49musecols,\n\u001b[0;32m   1320\u001b[0m             unpack\u001b[39m=\u001b[39;49munpack, ndmin\u001b[39m=\u001b[39;49mndmin, encoding\u001b[39m=\u001b[39;49mencoding,\n\u001b[0;32m   1321\u001b[0m             max_rows\u001b[39m=\u001b[39;49mmax_rows, quote\u001b[39m=\u001b[39;49mquotechar)\n\u001b[0;32m   1323\u001b[0m \u001b[39mreturn\u001b[39;00m arr\n",
      "File \u001b[1;32mc:\\Users\\mearo\\Documents\\MD_sim_project\\python_env\\mdsim_venv\\Lib\\site-packages\\numpy\\lib\\npyio.py:955\u001b[0m, in \u001b[0;36m_read\u001b[1;34m(fname, delimiter, comment, quote, imaginary_unit, usecols, skiplines, max_rows, converters, ndmin, unpack, dtype, encoding)\u001b[0m\n\u001b[0;32m    953\u001b[0m     fname \u001b[39m=\u001b[39m os\u001b[39m.\u001b[39mfspath(fname)\n\u001b[0;32m    954\u001b[0m \u001b[39mif\u001b[39;00m \u001b[39misinstance\u001b[39m(fname, \u001b[39mstr\u001b[39m):\n\u001b[1;32m--> 955\u001b[0m     fh \u001b[39m=\u001b[39m np\u001b[39m.\u001b[39;49mlib\u001b[39m.\u001b[39;49m_datasource\u001b[39m.\u001b[39;49mopen(fname, \u001b[39m'\u001b[39;49m\u001b[39mrt\u001b[39;49m\u001b[39m'\u001b[39;49m, encoding\u001b[39m=\u001b[39;49mencoding)\n\u001b[0;32m    956\u001b[0m     \u001b[39mif\u001b[39;00m encoding \u001b[39mis\u001b[39;00m \u001b[39mNone\u001b[39;00m:\n\u001b[0;32m    957\u001b[0m         encoding \u001b[39m=\u001b[39m \u001b[39mgetattr\u001b[39m(fh, \u001b[39m'\u001b[39m\u001b[39mencoding\u001b[39m\u001b[39m'\u001b[39m, \u001b[39m'\u001b[39m\u001b[39mlatin1\u001b[39m\u001b[39m'\u001b[39m)\n",
      "File \u001b[1;32mc:\\Users\\mearo\\Documents\\MD_sim_project\\python_env\\mdsim_venv\\Lib\\site-packages\\numpy\\lib\\_datasource.py:193\u001b[0m, in \u001b[0;36mopen\u001b[1;34m(path, mode, destpath, encoding, newline)\u001b[0m\n\u001b[0;32m    156\u001b[0m \u001b[39m\"\"\"\u001b[39;00m\n\u001b[0;32m    157\u001b[0m \u001b[39mOpen `path` with `mode` and return the file object.\u001b[39;00m\n\u001b[0;32m    158\u001b[0m \n\u001b[1;32m   (...)\u001b[0m\n\u001b[0;32m    189\u001b[0m \n\u001b[0;32m    190\u001b[0m \u001b[39m\"\"\"\u001b[39;00m\n\u001b[0;32m    192\u001b[0m ds \u001b[39m=\u001b[39m DataSource(destpath)\n\u001b[1;32m--> 193\u001b[0m \u001b[39mreturn\u001b[39;00m ds\u001b[39m.\u001b[39;49mopen(path, mode, encoding\u001b[39m=\u001b[39;49mencoding, newline\u001b[39m=\u001b[39;49mnewline)\n",
      "File \u001b[1;32mc:\\Users\\mearo\\Documents\\MD_sim_project\\python_env\\mdsim_venv\\Lib\\site-packages\\numpy\\lib\\_datasource.py:533\u001b[0m, in \u001b[0;36mDataSource.open\u001b[1;34m(self, path, mode, encoding, newline)\u001b[0m\n\u001b[0;32m    530\u001b[0m     \u001b[39mreturn\u001b[39;00m _file_openers[ext](found, mode\u001b[39m=\u001b[39mmode,\n\u001b[0;32m    531\u001b[0m                               encoding\u001b[39m=\u001b[39mencoding, newline\u001b[39m=\u001b[39mnewline)\n\u001b[0;32m    532\u001b[0m \u001b[39melse\u001b[39;00m:\n\u001b[1;32m--> 533\u001b[0m     \u001b[39mraise\u001b[39;00m \u001b[39mFileNotFoundError\u001b[39;00m(\u001b[39mf\u001b[39m\u001b[39m\"\u001b[39m\u001b[39m{\u001b[39;00mpath\u001b[39m}\u001b[39;00m\u001b[39m not found.\u001b[39m\u001b[39m\"\u001b[39m)\n",
      "\u001b[1;31mFileNotFoundError\u001b[0m: free_energy_rho_1.200000.dat not found."
     ]
    }
   ],
   "source": [
    "#SINCE NO T0.5 Sex drop that temperature\n",
    "results_no05 = results.drop([0])\n",
    "\n",
    "exentrfile = pd.DataFrame(np.loadtxt(\"free_energy_rho_1.200000.dat\"))\n",
    "\n",
    "exentr = []\n",
    "for temp in results_no05['temp']:\n",
    "    exentr.append(exentrfile.loc[exentrfile[0] == temp][5].values[0])\n",
    "results_no05['Sex'] = exentr"
   ]
  },
  {
   "cell_type": "code",
   "execution_count": 169,
   "metadata": {},
   "outputs": [
    {
     "data": {
      "text/html": [
       "<div>\n",
       "<style scoped>\n",
       "    .dataframe tbody tr th:only-of-type {\n",
       "        vertical-align: middle;\n",
       "    }\n",
       "\n",
       "    .dataframe tbody tr th {\n",
       "        vertical-align: top;\n",
       "    }\n",
       "\n",
       "    .dataframe thead th {\n",
       "        text-align: right;\n",
       "    }\n",
       "</style>\n",
       "<table border=\"1\" class=\"dataframe\">\n",
       "  <thead>\n",
       "    <tr style=\"text-align: right;\">\n",
       "      <th></th>\n",
       "      <th>temp</th>\n",
       "      <th>diff_coef</th>\n",
       "      <th>1/temp</th>\n",
       "      <th>red_diff</th>\n",
       "      <th>Sex</th>\n",
       "    </tr>\n",
       "  </thead>\n",
       "  <tbody>\n",
       "    <tr>\n",
       "      <th>1</th>\n",
       "      <td>0.6</td>\n",
       "      <td>0.023678</td>\n",
       "      <td>1.666667</td>\n",
       "      <td>0.032483</td>\n",
       "      <td>-4.874379</td>\n",
       "    </tr>\n",
       "    <tr>\n",
       "      <th>2</th>\n",
       "      <td>0.7</td>\n",
       "      <td>0.040601</td>\n",
       "      <td>1.428571</td>\n",
       "      <td>0.051568</td>\n",
       "      <td>-4.620547</td>\n",
       "    </tr>\n",
       "    <tr>\n",
       "      <th>3</th>\n",
       "      <td>0.8</td>\n",
       "      <td>0.061068</td>\n",
       "      <td>1.250000</td>\n",
       "      <td>0.072554</td>\n",
       "      <td>-4.409723</td>\n",
       "    </tr>\n",
       "    <tr>\n",
       "      <th>4</th>\n",
       "      <td>0.9</td>\n",
       "      <td>0.082310</td>\n",
       "      <td>1.111111</td>\n",
       "      <td>0.092198</td>\n",
       "      <td>-4.231697</td>\n",
       "    </tr>\n",
       "    <tr>\n",
       "      <th>5</th>\n",
       "      <td>1.0</td>\n",
       "      <td>0.105787</td>\n",
       "      <td>1.000000</td>\n",
       "      <td>0.112416</td>\n",
       "      <td>-4.079932</td>\n",
       "    </tr>\n",
       "    <tr>\n",
       "      <th>6</th>\n",
       "      <td>1.2</td>\n",
       "      <td>0.154331</td>\n",
       "      <td>0.833333</td>\n",
       "      <td>0.149712</td>\n",
       "      <td>-3.829079</td>\n",
       "    </tr>\n",
       "    <tr>\n",
       "      <th>7</th>\n",
       "      <td>1.5</td>\n",
       "      <td>0.234480</td>\n",
       "      <td>0.666667</td>\n",
       "      <td>0.203448</td>\n",
       "      <td>-3.544684</td>\n",
       "    </tr>\n",
       "    <tr>\n",
       "      <th>8</th>\n",
       "      <td>1.8</td>\n",
       "      <td>0.310039</td>\n",
       "      <td>0.555556</td>\n",
       "      <td>0.245569</td>\n",
       "      <td>-3.328247</td>\n",
       "    </tr>\n",
       "    <tr>\n",
       "      <th>9</th>\n",
       "      <td>2.3</td>\n",
       "      <td>0.441245</td>\n",
       "      <td>0.434783</td>\n",
       "      <td>0.309179</td>\n",
       "      <td>-3.060277</td>\n",
       "    </tr>\n",
       "    <tr>\n",
       "      <th>10</th>\n",
       "      <td>2.8</td>\n",
       "      <td>0.588739</td>\n",
       "      <td>0.357143</td>\n",
       "      <td>0.373884</td>\n",
       "      <td>-2.861703</td>\n",
       "    </tr>\n",
       "    <tr>\n",
       "      <th>11</th>\n",
       "      <td>3.4</td>\n",
       "      <td>0.740755</td>\n",
       "      <td>0.294118</td>\n",
       "      <td>0.426903</td>\n",
       "      <td>-2.679472</td>\n",
       "    </tr>\n",
       "    <tr>\n",
       "      <th>12</th>\n",
       "      <td>4.0</td>\n",
       "      <td>0.918123</td>\n",
       "      <td>0.250000</td>\n",
       "      <td>0.487826</td>\n",
       "      <td>-2.536512</td>\n",
       "    </tr>\n",
       "    <tr>\n",
       "      <th>13</th>\n",
       "      <td>5.0</td>\n",
       "      <td>1.163123</td>\n",
       "      <td>0.200000</td>\n",
       "      <td>0.552757</td>\n",
       "      <td>-2.354278</td>\n",
       "    </tr>\n",
       "    <tr>\n",
       "      <th>14</th>\n",
       "      <td>7.0</td>\n",
       "      <td>1.694001</td>\n",
       "      <td>0.142857</td>\n",
       "      <td>0.680391</td>\n",
       "      <td>-2.106547</td>\n",
       "    </tr>\n",
       "  </tbody>\n",
       "</table>\n",
       "</div>"
      ],
      "text/plain": [
       "    temp  diff_coef    1/temp  red_diff       Sex\n",
       "1    0.6   0.023678  1.666667  0.032483 -4.874379\n",
       "2    0.7   0.040601  1.428571  0.051568 -4.620547\n",
       "3    0.8   0.061068  1.250000  0.072554 -4.409723\n",
       "4    0.9   0.082310  1.111111  0.092198 -4.231697\n",
       "5    1.0   0.105787  1.000000  0.112416 -4.079932\n",
       "6    1.2   0.154331  0.833333  0.149712 -3.829079\n",
       "7    1.5   0.234480  0.666667  0.203448 -3.544684\n",
       "8    1.8   0.310039  0.555556  0.245569 -3.328247\n",
       "9    2.3   0.441245  0.434783  0.309179 -3.060277\n",
       "10   2.8   0.588739  0.357143  0.373884 -2.861703\n",
       "11   3.4   0.740755  0.294118  0.426903 -2.679472\n",
       "12   4.0   0.918123  0.250000  0.487826 -2.536512\n",
       "13   5.0   1.163123  0.200000  0.552757 -2.354278\n",
       "14   7.0   1.694001  0.142857  0.680391 -2.106547"
      ]
     },
     "execution_count": 169,
     "metadata": {},
     "output_type": "execute_result"
    }
   ],
   "source": [
    "results_no05"
   ]
  },
  {
   "cell_type": "code",
   "execution_count": 170,
   "metadata": {},
   "outputs": [],
   "source": [
    "results_no05.to_csv(model + \"_results.csv\")"
   ]
  }
 ],
 "metadata": {
  "kernelspec": {
   "display_name": "mdsim_venv",
   "language": "python",
   "name": "python3"
  },
  "language_info": {
   "codemirror_mode": {
    "name": "ipython",
    "version": 3
   },
   "file_extension": ".py",
   "mimetype": "text/x-python",
   "name": "python",
   "nbconvert_exporter": "python",
   "pygments_lexer": "ipython3",
   "version": "3.11.0 (main, Oct 24 2022, 18:26:48) [MSC v.1933 64 bit (AMD64)]"
  },
  "orig_nbformat": 4,
  "vscode": {
   "interpreter": {
    "hash": "b82cbcba640358bb0056f7bbf3b22e78d8c1a4e875ddbdbc225be73dc5edd99d"
   }
  }
 },
 "nbformat": 4,
 "nbformat_minor": 2
}
